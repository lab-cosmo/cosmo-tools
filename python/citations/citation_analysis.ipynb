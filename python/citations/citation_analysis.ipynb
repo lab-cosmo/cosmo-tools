{
 "cells": [
  {
   "cell_type": "code",
   "execution_count": null,
   "metadata": {},
   "outputs": [],
   "source": [
    "import json\n",
    "import matplotlib.pyplot as plt\n",
    "import numpy as np\n",
    "from fetch_citations import *"
   ]
  },
  {
   "cell_type": "markdown",
   "metadata": {},
   "source": [
    "# Play around with the data"
   ]
  },
  {
   "cell_type": "code",
   "execution_count": null,
   "metadata": {},
   "outputs": [],
   "source": [
    "pubs = json.load(open(\"./citations.json\",\"r\"))"
   ]
  },
  {
   "cell_type": "code",
   "execution_count": null,
   "metadata": {},
   "outputs": [],
   "source": [
    "pubs = pubs_clean(pubs, 1998)"
   ]
  },
  {
   "cell_type": "code",
   "execution_count": null,
   "metadata": {},
   "outputs": [],
   "source": [
    "citesy = cites_per_year(pubs)"
   ]
  },
  {
   "cell_type": "code",
   "execution_count": null,
   "metadata": {},
   "outputs": [],
   "source": [
    "papersy = papers_per_year(pubs)"
   ]
  },
  {
   "cell_type": "code",
   "execution_count": null,
   "metadata": {},
   "outputs": [],
   "source": [
    "plt.bar(x=list(citesy.keys()), height=list(citesy.values()))\n",
    "plt.xlabel(\"pub_year\")\n",
    "plt.ylabel(\"n. of citations\")"
   ]
  },
  {
   "cell_type": "code",
   "execution_count": null,
   "metadata": {},
   "outputs": [],
   "source": [
    "plt.bar(x=list(papersy.keys()), height=list(papersy.values()))\n",
    "plt.xlabel(\"pub_year\")\n",
    "plt.ylabel(\"n. of papers\")"
   ]
  },
  {
   "cell_type": "code",
   "execution_count": null,
   "metadata": {},
   "outputs": [],
   "source": [
    "fig, ax1 = plt.subplots()\n",
    "ax1.bar(x=list(papersy.keys()), height=list(papersy.values()),align=\"edge\",width=0.4,color='b')\n",
    "ax1.set_xlabel('year')\n",
    "# Make the y-axis label, ticks and tick labels match the line color.\n",
    "ax1.set_ylabel('n. of papers', color='b')\n",
    "ax1.tick_params('y', colors='b')\n",
    "\n",
    "ax2 = ax1.twinx()\n",
    "ax2.bar(x=list(citesy.keys()), height=list(citesy.values()),align=\"edge\",width=-0.4,color='r')\n",
    "ax2.set_ylabel('n. of citations', color='r')\n",
    "ax2.tick_params('y', colors='r')\n",
    "\n",
    "fig1=fig\n",
    "fig.savefig(\"papercites.png\",dpi=300)"
   ]
  },
  {
   "cell_type": "code",
   "execution_count": null,
   "metadata": {},
   "outputs": [],
   "source": [
    "papercites = papers_cites(pubs)"
   ]
  },
  {
   "cell_type": "code",
   "execution_count": null,
   "metadata": {},
   "outputs": [],
   "source": [
    "years, ypcites, psorted = papers_cites_years_table(pubs)\n",
    "ypcum = ypcites.cumsum(axis=1)\n",
    "ysorted = np.asarray([p[\"bib\"][\"pub_year\"] for p in psorted])\n",
    "ypubs = list(set(ysorted)); ypubs.sort()"
   ]
  },
  {
   "cell_type": "code",
   "execution_count": null,
   "metadata": {},
   "outputs": [],
   "source": [
    "fig, ax1 = plt.subplots()\n",
    "for b in range(len(years)-1,-1,-1):\n",
    "    ax1.bar(range(len(pubs)),np.log10(ypcum[:,b]),width=1,label=str(years[b]), color=(b/len(years),0,1-b/len(years)))\n",
    "ax1.legend(ncol=2)\n",
    "ax1.set_xlabel(\"paper index\")\n",
    "ax1.set_ylabel(\"number of citations\")\n",
    "ax1.set_xlim(-1,105)\n",
    "fig2 = fig\n",
    "fig.savefig(\"paperhistory.png\",dpi=300)"
   ]
  },
  {
   "cell_type": "code",
   "execution_count": null,
   "metadata": {},
   "outputs": [],
   "source": [
    "fig, ax1 = plt.subplots()\n",
    "for y in ypubs:\n",
    "    totb = ypcum[:,-1].copy()\n",
    "    totb[np.where(ysorted!=y)[0]] = 0\n",
    "    yf = (y-ypubs[0])/len(years)\n",
    "    ax1.bar(range(len(pubs)),totb,width=1,label=str(y), color=(yf,0,1-yf))\n",
    "ax1.legend(ncol=2)\n",
    "ax1.set_xlabel(\"paper index\")\n",
    "ax1.set_ylabel(\"number of citations\")\n",
    "ax1.set_xlim(-1,105)\n",
    "ax1.set_yscale('log')\n",
    "fig2 = fig\n",
    "fig.savefig(\"paperhistory.png\",dpi=300)"
   ]
  },
  {
   "cell_type": "code",
   "execution_count": null,
   "metadata": {},
   "outputs": [],
   "source": [
    "combo, axs= plt.subplots(ncols=2, nrows=1)\n",
    "ax1 = axs[0]\n",
    "ax1.bar(x=list(papersy.keys()), height=list(papersy.values()),align=\"edge\",width=0.4,color='b')\n",
    "ax1.set_xlabel('year')\n",
    "# Make the y-axis label, ticks and tick labels match the line color.\n",
    "ax1.set_ylabel('n. of papers', color='b')\n",
    "ax1.tick_params('y', colors='b')\n",
    "\n",
    "ax2 = ax1.twinx()\n",
    "ax2.bar(x=list(citesy.keys()), height=list(citesy.values()),align=\"edge\",width=-0.4,color='r')\n",
    "ax2.set_ylabel('n. of citations', color='r')\n",
    "ax2.tick_params('y', colors='r')\n",
    "\n",
    "ax1 = axs[1]\n",
    "for b in range(len(years)-1,-1,-1):\n",
    "    ax1.bar(range(len(pubs)),ypcum[:,b],width=1,label=str(years[b]), color=(b/len(years),0,1-b/len(years)))\n",
    "ax1.legend(ncol=2)\n",
    "ax1.set_xlabel(\"paper index\")\n",
    "ax1.set_ylabel(\"number of citations\")\n",
    "ax1.set_xlim(-1,105)"
   ]
  },
  {
   "cell_type": "code",
   "execution_count": null,
   "metadata": {},
   "outputs": [],
   "source": [
    "combo.set_size_inches(9,3)\n",
    "combo.tight_layout()\n",
    "combo.savefig(\"citationdata.png\",dpi=300)\n",
    "combo"
   ]
  },
  {
   "cell_type": "markdown",
   "metadata": {},
   "source": [
    "# Automatic generation of standard citation analysis plot"
   ]
  },
  {
   "cell_type": "code",
   "execution_count": null,
   "metadata": {},
   "outputs": [],
   "source": [
    "rc = np.asarray([1.0,0.5,0])\n",
    "bc = np.asarray((0.0,0.5,1.0))"
   ]
  },
  {
   "cell_type": "code",
   "execution_count": null,
   "metadata": {
    "code_folding": []
   },
   "outputs": [],
   "source": [
    "def mk_citation_plot(pubs, lrange=(), rrange=()):    \n",
    "    citesy = cites_per_year(pubs)\n",
    "    papersy = papers_per_year(pubs)\n",
    "    papercites = papers_cites(pubs)\n",
    "    years, ypcites, psorted = papers_cites_years_table(pubs)\n",
    "    ypcum = ypcites.cumsum(axis=1)\n",
    "    ysorted = np.asarray([p[\"bib\"][\"pub_year\"] for p in psorted])\n",
    "    ypubs = list(set(ysorted)); ypubs.sort()\n",
    "\n",
    "    combo, axs= plt.subplots(ncols=2, nrows=1)\n",
    "    ax1 = axs[0]\n",
    "    ax1.bar(x=list(papersy.keys()), height=list(papersy.values()),align=\"edge\",width=-0.4,color=bc)\n",
    "    ax1.set_xlabel('year')\n",
    "    # Make the y-axis label, ticks and tick labels match the line color.\n",
    "    ax1.set_ylabel('n. of papers', color=bc)\n",
    "    ax1.tick_params('y', colors=bc)\n",
    "    if len(lrange)>0:\n",
    "        ax1.set_xlim(*lrange)\n",
    "\n",
    "    ax2 = ax1.twinx()\n",
    "    ax2.bar(x=list(citesy.keys()), height=list(citesy.values()),align=\"edge\",width=0.4,color=rc)\n",
    "    ax2.set_ylabel('n. of citations', color=rc)\n",
    "    ax2.tick_params('y', colors=rc)\n",
    "\n",
    "    ax1 = axs[1]\n",
    "    for y in ypubs:\n",
    "        totb = ypcum[:,-1].copy()\n",
    "        totb[np.where(ysorted!=y)[0]] = 0\n",
    "        yf = (y-ypubs[0])/len(years)\n",
    "        ax1.bar(range(len(pubs)),totb,width=1,label=str(y), color=yf*rc+(1-yf)*bc)    \n",
    "    ax1.legend(ncol=2)\n",
    "    ax1.set_xlabel(\"paper index\")\n",
    "    ax1.set_ylabel(\"number of citations\")\n",
    "    if len(rrange)>0:\n",
    "        ax1.set_xlim(*rrange)\n",
    "    ax1.axvline(h_index(pubs),ls='--',c='k')\n",
    "    ax1.set_yscale('log')\n",
    "    (y0,y1) = ax1.get_ylim()\n",
    "    ax1.text(h_index(pubs)*0.95, y1-(y1-y0)*0.05, \"h\", horizontalalignment='right', verticalalignment='top')\n",
    "    \n",
    "    combo.set_size_inches(9,3)\n",
    "    combo.tight_layout()\n",
    "    \n",
    "    return combo"
   ]
  },
  {
   "cell_type": "code",
   "execution_count": null,
   "metadata": {},
   "outputs": [],
   "source": [
    "pubs = pubs_clean(json.load(open(\"citations.json\",\"r\")))\n",
    "plots = mk_citation_plot(pubs, lrange=(2005,2019.5))"
   ]
  },
  {
   "cell_type": "code",
   "execution_count": null,
   "metadata": {
    "code_folding": []
   },
   "outputs": [],
   "source": [
    "def mk_comparison_plot(pubs1, pubs2, ygrad=(0,0), names=(\"\",\"\"), lrange=(), rrange=()):    \n",
    "    citesy1 = cites_per_year(pubs1)\n",
    "    papersy1 = papers_per_year(pubs1)\n",
    "    papercites1 = papers_cites(pubs1)\n",
    "    years1, ypcites1, psorted1 = papers_cites_years_table(pubs1)\n",
    "    ypcum1 = ypcites1.cumsum(axis=1)\n",
    "    ysorted1 = np.asarray([p[\"bib\"][\"pub_year\"] for p in psorted1])\n",
    "    ypubs1 = list(set(ysorted1)); ypubs1.sort()\n",
    "    \n",
    "    citesy2 = cites_per_year(pubs2)\n",
    "    papersy2 = papers_per_year(pubs2)\n",
    "    papercites2 = papers_cites(pubs2)\n",
    "    years2, ypcites2, psorted2 = papers_cites_years_table(pubs2)\n",
    "    ypcum2 = ypcites2.cumsum(axis=1)\n",
    "    ysorted2 = np.asarray([p[\"bib\"][\"pub_year\"] for p in psorted2])\n",
    "    ypubs2 = list(set(ysorted2)); ypubs2.sort()\n",
    "    \n",
    "\n",
    "    combo, axs= plt.subplots(ncols=2, nrows=1)\n",
    "    ax1 = axs[0]\n",
    "    ax1.bar(x=(np.asarray(list(papersy1.keys()))-ygrad[0]), \n",
    "            height=list(papersy1.values()),align=\"edge\",width=-0.4,\n",
    "            color=bc, label=names[0])\n",
    "    if ygrad[0]==0 and ygrad[1]==0:\n",
    "        ax1.set_xlabel('year')\n",
    "    else:\n",
    "        ax1.set_xlabel('years since graduation')\n",
    "    # Make the y-axis label, ticks and tick labels match the line color.\n",
    "    ax1.set_ylabel('n. of papers', color=bc)\n",
    "    ax1.tick_params('y', colors=bc)\n",
    "    if len(lrange)>0:\n",
    "        ax1.set_xlim(*lrange)\n",
    "\n",
    "    ax2 = ax1.twinx()\n",
    "    ax2.bar(x=(np.asarray(list(citesy1.keys()))-ygrad[0]), height=list(citesy1.values()),align=\"edge\",width=0.4,color=rc)\n",
    "    ax2.set_ylabel('n. of citations', color=rc)\n",
    "    ax2.tick_params('y', colors=rc)\n",
    "    \n",
    "    dy = max(max(papersy1.values()),max(papersy2.values()))*0.02\n",
    "    ax1.bar(x=(np.asarray(list(papersy2.keys()))-ygrad[1]), \n",
    "            height=dy,align=\"edge\",width=-0.4,\n",
    "            bottom=np.asarray(list(papersy2.values()))-dy/2,\n",
    "            color=(0.0,0,0.5), label=names[1])\n",
    "    \n",
    "    dy = max(max(citesy1.values()),max(citesy2.values()))*0.02\n",
    "    ax2.bar(x=(np.asarray(list(citesy2.keys()))-ygrad[1]), \n",
    "            height=dy,align=\"edge\",width=0.4,\n",
    "            bottom=np.asarray(list(citesy2.values()))-dy/2,\n",
    "            color=(0.5,0,0.0))\n",
    "    \n",
    "    ax1.set_ylim(0); ax2.set_ylim(0)\n",
    "    ax1.legend(loc='upper left')\n",
    "    \n",
    "    ax1 = axs[1]\n",
    "    ax1.plot(range(len(pubs1)), ypcum1[:,-1], 'r-', label=names[0])\n",
    "    ax1.plot(range(len(pubs2)), ypcum2[:,-1], 'k-', label=names[1])\n",
    "    ax1.legend(ncol=2)\n",
    "    ax1.set_xlabel(\"paper index\")\n",
    "    ax1.set_ylabel(\"cit./paper\")\n",
    "    if len(rrange)>0:\n",
    "        ax1.set_xlim(*rrange)\n",
    "        \n",
    "    ax1.axvline(h_index(pubs1)+0.25,ls='--',c='r')\n",
    "    ax1.axvline(h_index(pubs2)-0.25,ls='--',c='k')\n",
    "    ax1.set_yscale('log')\n",
    "    \n",
    "    combo.set_size_inches(9,3)\n",
    "    combo.tight_layout()\n",
    "    \n",
    "    return combo"
   ]
  },
  {
   "cell_type": "code",
   "execution_count": null,
   "metadata": {},
   "outputs": [],
   "source": [
    "pubs = pubs_clean(json.load(open(\"citations.json\",\"r\")))\n",
    "plots = mk_comparison_plot(pubs, pubs[::2], ygrad=(2002,2007), lrange=(-7,18), rrange=(0,100), names=(\"john\", \"doe\"))\n",
    "plots.savefig(\"citations_comparison.png\",dpi=300)"
   ]
  },
  {
   "cell_type": "code",
   "execution_count": null,
   "metadata": {},
   "outputs": [],
   "source": [
    "print(\"h-index: \",h_index(pubs))\n",
    "print(\"<cites>: \",np.mean(papers_cites(pubs)))\n",
    "print(\"median:  \",np.median(papers_cites(pubs)))"
   ]
  },
  {
   "cell_type": "code",
   "execution_count": null,
   "metadata": {},
   "outputs": [],
   "source": []
  }
 ],
 "metadata": {
  "kernelspec": {
   "display_name": "Python 3",
   "language": "python",
   "name": "python3"
  },
  "language_info": {
   "codemirror_mode": {
    "name": "ipython",
    "version": 3
   },
   "file_extension": ".py",
   "mimetype": "text/x-python",
   "name": "python",
   "nbconvert_exporter": "python",
   "pygments_lexer": "ipython3",
   "version": "3.8.10"
  },
  "toc": {
   "base_numbering": 1,
   "nav_menu": {},
   "number_sections": true,
   "sideBar": true,
   "skip_h1_title": false,
   "title_cell": "Table of Contents",
   "title_sidebar": "Contents",
   "toc_cell": false,
   "toc_position": {},
   "toc_section_display": true,
   "toc_window_display": false
  }
 },
 "nbformat": 4,
 "nbformat_minor": 2
}
